{
 "cells": [
  {
   "cell_type": "markdown",
   "metadata": {},
   "source": [
    "import pandas as pad\n",
    "% matplotlib inline\n",
    "\n",
    "df.hist(figsize = (8,8,));\n",
    "\n",
    "also plot on a specific column\n",
    "df['a'].hist()\n",
    "\n",
    "df.plot(kind='hist')\n",
    "\n",
    "Bar chart, needs value counts\n",
    "df['census].value_counts().plot(kind='bar')\n",
    "could also use pie\n",
    "\n",
    "pd.plotting.scatter_matrix(df, figsize = (15,15));\n",
    "\n",
    "df.plot(x = 'column a', y = 'column b', kind='scatter');\n",
    "\n",
    "df['a'].plot(kind='box');\n",
    "\n"
   ]
  },
  {
   "cell_type": "markdown",
   "metadata": {},
   "source": [
    "Sometimes you want to create separate dataframes based on a certain value in a column\n",
    "\n",
    "df_m = df[df['column'] == 'm']\n",
    "\n",
    "or use\n",
    "mask = df['column'] =='m']\n",
    "df_m = df[mask]\n",
    "\n",
    "now get summary statistics for certain values\n",
    "df_m.['equities'].describe()\n",
    "\n",
    "'The mean of equity returns is {1:.2f}'.format(df_m['equities'].mean())\n",
    "\n"
   ]
  }
 ],
 "metadata": {
  "kernelspec": {
   "display_name": "Python [conda env:Anaconda3]",
   "language": "python",
   "name": "conda-env-Anaconda3-py"
  },
  "language_info": {
   "codemirror_mode": {
    "name": "ipython",
    "version": 3
   },
   "file_extension": ".py",
   "mimetype": "text/x-python",
   "name": "python",
   "nbconvert_exporter": "python",
   "pygments_lexer": "ipython3",
   "version": "3.6.6"
  }
 },
 "nbformat": 4,
 "nbformat_minor": 2
}
