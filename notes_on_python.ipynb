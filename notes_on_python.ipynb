{
 "cells": [
  {
   "cell_type": "markdown",
   "metadata": {},
   "source": [
    "# PYTHON\n",
    "Source: Udacity's Data Analyst Nanodegree, based on my note-taking and actual examples in the course.\n",
    "\n",
    "## Introduction and History\n",
    "\n",
    "### Introduction\n",
    "These are my notes from the Python class in Udacity's Data Analyst Nanodegree.\n",
    "I'll use them for me to come back to them again and again. They should cover major and fundamental building blocks that you need to work with Python, especially in Data Analysis contexts.\n",
    "The relate to Python 3.\n",
    "\n",
    "\n",
    "### History\n",
    "Python was started in the late 1980s by Guido van Rossum. Implementation started in December 1989. The name was inspired by British comedy series Monty Python's Flying Circus. Python 2.0 was released on October 16, 2000. Python 3.0, a major, backwards-incompatible release, was released on December 3, 2008. Many major features have also been backported to the backwards-compatible Python 2.6 and 2.7.\n",
    "\n",
    "###  Python 3\n",
    "So what has changed with Python 3?\n",
    "- Changing print so that it is a built-in function, not a statement. In Python 2.6 and 2.7 print() is available as a builtin but is masked by the print statement syntax, which canbe disabled by entering from __future__ import print_function at the top of the file.[27]\n",
    "- Removal of the Python 2 input function, and the renaming of the raw_input function to input. Python 3's input function behaves like Python 2's raw_input function, in that the input is always returned as a string rather than being evaluated as an expression.\n",
    "and so on and so on... you can read it up in various articles. I want to focus on the practical issues now. \n",
    "\n",
    "### Learning tipps\n",
    "First of all: error messages are your friend, nothing you should fear or try to avoid.\n",
    "Learning programming, like anything in life, is trial and error. \n",
    "also:\n",
    "Python is case sensitive.\n",
    "Spacing is important.\n",
    "Use error messages to help you learn.\n",
    "\n",
    "\n",
    "### What does it take to learn Python?\n",
    "The following concepts are key to learn Python:\n",
    "\n",
    "#### Data Types and Operators\n",
    "- Data Types: Integers, Floats, Booleans, Strings, Lists, Tuples, Sets, Dictionaries\n",
    "- Operators: Arithmetic, Assignment, Comparison, Logical, Membership, Identity\n",
    "- Built-In Functions, Compound Data Structures, Type Conversion\n",
    "- Whitespace and Style Guidelines\n",
    "\n",
    "#### Control Flow\n",
    "- Conditional Statements\n",
    "- Boolean Expressions\n",
    "- For and While Loops\n",
    "- Break and Continue\n",
    "- Zip and Enumerate\n",
    "- List Comprehensions\n",
    "\n",
    "#### Functions\n",
    "- Defining Functions\n",
    "- Variable Scope\n",
    "- Documentation\n",
    "- Lambda Expressions\n",
    "- Iterators and Generators\n",
    "\n",
    "#### Scripting\n",
    "- Python Installation and Environment Setup\n",
    "- Running and Editing Python Scripts\n",
    "- Interacting with User Input\n",
    "- Handling Exceptions\n",
    "- Reading and Writing Files\n",
    "- Importing Local, Standard, and Third-Party Modules\n",
    "- Experimenting with an Interpreter\n",
    "\n",
    "\n",
    "## Data Types and operators\n",
    "\n",
    "Data Types And Operators are the major building blocks of Python.\n",
    "- Data Types: Integers, Floats, Booleans, Strings, Lists, Tuples, Sets, Dictionaries.\n",
    "- Operators: Arithmetic, Assignment, Comparison, Logical, Membership, Identity.\n",
    "- Built-In Functions, Compound Data Structures, Type Conversion.\n",
    "- We will also learn about whitespace and style guidelines. \n",
    "- If we want to display what we did, use print(what we want to have printed)\n",
    "\n",
    "\n",
    "### Note on arithmetic operators\n",
    "We use arithmetic operators to work with numerical data types. \n",
    "- \"+\" Addition\n",
    "- \"-\" Subtraction\n",
    "- \"*\" Multiplication\n",
    "- / Division\n",
    "- % Mod (the remainder after dividing)\n",
    "- ** Exponentiation (note that ^ does not do this operation, as you might have seen in other languages)\n",
    "- // Divides and rounds down to the nearest integer\n",
    "- The usual order of mathematical operations holds in Python, which you can review in this Math Forum page if needed.\n",
    "\n",
    "### On formatting\n",
    "- Add extra spaces around the - and + to help with readability.\n",
    "- No extra space between print and ( and the spaces around the / and *.\n",
    "\n",
    "\n",
    "### Note on Variables\n",
    "- Use a variable name and assign it a value using the assignment operator =.\n",
    "- name_of_variable = value_of_variable\n",
    "\n"
   ]
  },
  {
   "cell_type": "code",
   "execution_count": 41,
   "metadata": {},
   "outputs": [
    {
     "name": "stdout",
     "output_type": "stream",
     "text": [
      "0.005\n"
     ]
    }
   ],
   "source": [
    "# Say we want to set a variable that stores the alpha assumptions for an investment signal.\n",
    "alpha_signal_equities = 0.005\n",
    "print(alpha_signal_equities)"
   ]
  },
  {
   "cell_type": "code",
   "execution_count": 2,
   "metadata": {},
   "outputs": [
    {
     "name": "stdout",
     "output_type": "stream",
     "text": [
      "(0.05, 0.02, 0.03)\n"
     ]
    }
   ],
   "source": [
    "alpha_equities = 0.05\n",
    "alpha_fx = 0.02\n",
    "alpha_rates = 0.03\n",
    "print(alpha_equities, alpha_fx, alpha_rates)"
   ]
  },
  {
   "cell_type": "code",
   "execution_count": 3,
   "metadata": {},
   "outputs": [
    {
     "name": "stdout",
     "output_type": "stream",
     "text": [
      "(0.05, 0.02, 0.03)\n"
     ]
    }
   ],
   "source": [
    "# You can do this more efficiently with multiple assignment if you want\n",
    "alpha_equities, alpha_fx, alpha_rates = 0.05, 0.02, 0.03\n",
    "print(alpha_equities, alpha_fx, alpha_rates)"
   ]
  },
  {
   "cell_type": "code",
   "execution_count": null,
   "metadata": {},
   "outputs": [],
   "source": [
    "''' Be descriptive, so it is much easier to read the code and follow whats happening.\n",
    "Besides writing variable names that are descriptive, there are a few things to watch out for when naming variables in Python.\n",
    "1. Only use ordinary letters, numbers and underscores in your variable names. They can’t have spaces, and need to start with a letter or underscore.\n",
    "2. You can’t use reserved words or built-in identifiers that have important purposes in Python, which you’ll learn about throughout this course.\n",
    "The pythonic way to name variables is to use all lowercase letters and underscores to separate words.\n",
    "This is called the snake style.\n",
    "\n",
    "my_height = 58\n",
    "my_lat = 40\n",
    "my_long = 105\n",
    "\n",
    "and not\n",
    "my height = 58\n",
    "MYLONG = 40\n",
    "MyLat = 105\n",
    "'''\n",
    "\n"
   ]
  },
  {
   "cell_type": "code",
   "execution_count": 7,
   "metadata": {},
   "outputs": [
    {
     "name": "stdout",
     "output_type": "stream",
     "text": [
      "0.06\n"
     ]
    }
   ],
   "source": [
    "'''Note on incrementing Operators\n",
    "Instead of saying population = population + 1000 it is easier to use incrementing\n",
    "population += 1000\n",
    "Also works with other arithmetic operators.'''\n",
    "\n",
    "alpha = 0.05\n",
    "alpha += 0.01\n",
    "print(alpha)\n"
   ]
  },
  {
   "cell_type": "markdown",
   "metadata": {},
   "source": [
    "### Note on integers and Floats\n",
    "There are two data types for numeric values: Integers and floating rate numbers \n",
    "- int - for integer values\n",
    "- float - for decimal or floating point values"
   ]
  },
  {
   "cell_type": "code",
   "execution_count": 9,
   "metadata": {},
   "outputs": [
    {
     "name": "stdout",
     "output_type": "stream",
     "text": [
      "<type 'int'>\n",
      "<type 'float'>\n",
      "False\n"
     ]
    }
   ],
   "source": [
    "# You can create a value that follows the data type by using the following syntax:\n",
    "x = int(4.7)   # x is now an integer 4\n",
    "y = float(4)   # y is now a float of 4.0\n",
    "\n",
    "# You can check the type by using the type function:\n",
    "print(type(x))\n",
    "print(type(y))\n",
    "\n",
    "'''Because the float, or approximation, for 0.1 is actually slightly more than 0.1,\n",
    "when we add several of them together we can see the difference between \n",
    "the mathematically correct answer and the one that Python creates.'''\n",
    "print(.1 + .1 + .1 == .3)\n",
    "\n"
   ]
  },
  {
   "cell_type": "markdown",
   "metadata": {},
   "source": [
    "### Note on style\n",
    "PEP 8 is a style guideline.\n",
    "Come back to it from time to time to check your style.\n",
    "Or use an add in package in Atom that is based on PEP8.\n",
    "\n",
    "High order arithmetics (* and /) without a space, but a space with lower order + and -.\n",
    "\n",
    "\n",
    "### note on errors in PYTHON\n",
    "There are syntax errors that cause the code not to run.\n",
    "Look at the last line of the error message for a clues.\n",
    "An exception error is occuring when the code is running.\n",
    "The last line of the error message indicates what happened. Exceptions come in different types, and the type is printed as part of the message: the types in the example are ZeroDivisionError, NameError and TypeError. The string printed as the exception type is the name of the built-in exception that occurred. This is true for all built-in exceptions, but need not be true for user-defined exceptions (although it is a useful convention). Standard exception names are built-in identifiers (not reserved keywords).\n",
    "The rest of the line provides detail based on the type of exception and what caused it.\n",
    "It is possible to write programs that handle selected exceptions.\n",
    "\n",
    "\n",
    "### Note on Booleans, Comparison Operators, and Logical Operators\n",
    "The bool data type holds one of the values True or False, which are often encoded as 1 or 0, respectively.\n",
    "There are 6 comparison operators that are common to see in order to obtain a bool value:\n",
    "Comparison Operators\n",
    "Symbol Use Case\tBool\tOperation\n",
    "- 5 < 3\tFalse\tLess Than\n",
    "- 5 > 3\tTrue\tGreater Than\n",
    "- 3 <= 3\tTrue\tLess Than or Equal To\n",
    "- 3 >= 5\tFalse\tGreater Than or Equal To\n",
    "- 3 == 5\tFalse\tEqual To\n",
    "- 3 != 5\tTrue\tNot Equal To\n",
    "\n",
    "\n",
    "And there are three logical operators you need to be familiar with:\n",
    "\n",
    "- 5 < 3 and 5 == 5\tFalse\tbecause and evaluates if all provided statements are True\n",
    "- 5 < 3 or 5 == 5\tTrue\tbecause or evaluates if at least one of many statements is True\n",
    "- not 5 < 3\tTrue\tnot flips the Bool Value\n",
    "\n"
   ]
  },
  {
   "cell_type": "markdown",
   "metadata": {},
   "source": [
    "### Note on strings\n",
    "- Strings are an immutable and ordered series of characters.\n",
    "- Strings in Python are shown as the variable type str. \n",
    "- You can define a string with either double quotes \" or single quotes '.\n",
    "- If the string you are creating actually has one of these two values in it, then you need to be careful to assure your code doesn't give an error.\n"
   ]
  },
  {
   "cell_type": "code",
   "execution_count": 12,
   "metadata": {},
   "outputs": [
    {
     "name": "stdout",
     "output_type": "stream",
     "text": [
      "this is a string!\n",
      "this is also a string!!!\n"
     ]
    }
   ],
   "source": [
    "my_string = 'this is a string!'\n",
    "my_string2 = \"this is also a string!!!\"\n",
    "print(my_string)\n",
    "print(my_string2)\n",
    "\n"
   ]
  },
  {
   "cell_type": "code",
   "execution_count": 13,
   "metadata": {},
   "outputs": [
    {
     "name": "stdout",
     "output_type": "stream",
     "text": [
      "Simon's skateboard is in the garage.\n"
     ]
    }
   ],
   "source": [
    "# You can also include a \\ in your string to be able to include one of these quotes:\n",
    "\n",
    "this_string = 'Simon\\'s skateboard is in the garage.'\n",
    "print(this_string)\n",
    "\n"
   ]
  },
  {
   "cell_type": "code",
   "execution_count": 16,
   "metadata": {},
   "outputs": [
    {
     "name": "stdout",
     "output_type": "stream",
     "text": [
      "AssetAllocation\n",
      "Asset Allocation\n",
      "AssetAssetAssetAssetAsset\n"
     ]
    }
   ],
   "source": [
    "first_word = 'Asset'\n",
    "second_word = 'Allocation'\n",
    "print(first_word + second_word)\n",
    "\n",
    "print(first_word + ' ' + second_word)\n",
    "print(first_word * 5)\n",
    "\n"
   ]
  },
  {
   "cell_type": "code",
   "execution_count": 20,
   "metadata": {},
   "outputs": [
    {
     "name": "stdout",
     "output_type": "stream",
     "text": [
      "5\n"
     ]
    }
   ],
   "source": [
    "first_word = 'Asset'\n",
    "'''Note on len() built in functionalityThe len() function\n",
    "len() is a built-in Python function that returns the length of an object, like a string.\n",
    "The length of a string is the number of characters in the string. This will always be an integer.'''\n",
    "print(len(first_word))\n",
    "\n",
    "\n",
    "\n"
   ]
  },
  {
   "cell_type": "code",
   "execution_count": 19,
   "metadata": {},
   "outputs": [
    {
     "name": "stdout",
     "output_type": "stream",
     "text": [
      "A\n",
      "s\n"
     ]
    }
   ],
   "source": [
    "'''Unlike the other data types you have seen so far, you can also index into strings, \n",
    "but you will see more on this soon! For now, here is a small example.\n",
    "Notice Python uses 0 indexing - we will discuss this later in this lesson in detail.'''\n",
    "first_word = 'Asset'\n",
    "print(first_word[0])\n",
    "print(first_word[1])"
   ]
  },
  {
   "cell_type": "markdown",
   "metadata": {},
   "source": [
    "### note on methods\n",
    "A method in Python behaves similarly to a function. Methods actually are functions that are called using dot notation.\n",
    "For example, lower() is a string method that can be used like this, on a string called \"sample string\": \n",
    "\n",
    "Always pass the object first and then call the method like object.method() or example my_string.islower() or my_string.count('a')\n"
   ]
  },
  {
   "cell_type": "code",
   "execution_count": 25,
   "metadata": {},
   "outputs": [
    {
     "name": "stdout",
     "output_type": "stream",
     "text": [
      "1\n",
      "True\n",
      "Asset allocation\n"
     ]
    }
   ],
   "source": [
    "my_string = 'asset'\n",
    "print(my_string.count('a'))\n",
    "print(my_string.islower())\n",
    "\n",
    "#playing around with some string methods, taking them from https://docs.python.org/3/library/stdtypes.html#string-methods\n",
    "print(str.capitalize('asset Allocation'))"
   ]
  },
  {
   "cell_type": "markdown",
   "metadata": {},
   "source": [
    "str.format(*args, **kwargs)\n",
    "Perform a string formatting operation. The string on which this method is called can contain literal text or replacement fields delimited by braces {}. Each replacement field contains either the numeric index of a positional argument, or the name of a keyword argument. Returns a copy of the string where each replacement field is replaced with the string value of the corresponding argument."
   ]
  },
  {
   "cell_type": "code",
   "execution_count": 33,
   "metadata": {},
   "outputs": [
    {
     "name": "stdout",
     "output_type": "stream",
     "text": [
      "The aggregated returns of year one and two are 12\n"
     ]
    }
   ],
   "source": [
    "# Write two lines of code below, each assigning a value to a variable\n",
    "return_1 = 5\n",
    "return_2 = 7\n",
    "\n",
    "# Now write a print statement using .format() to print out a sentence and the \n",
    "#   values of both of the variables\n",
    "print('The aggregated returns of year one and two are {0}'.format(return_1 + return_2))\n",
    "\n",
    "### This format method is super helpful if you want to aggregate calculations into smooth and \n",
    "### meaningful output structures that are formatted and easy to read'''"
   ]
  },
  {
   "cell_type": "code",
   "execution_count": 39,
   "metadata": {},
   "outputs": [
    {
     "name": "stdout",
     "output_type": "stream",
     "text": [
      "['Asset', 'Allocation', 'epxlains', 'more', 'than', '90%', 'of', 'returns.']\n",
      "['Asset', 'Allocation', 'epxlains', 'more than 90% of returns.']\n",
      "['Asset Allocation epxlains more than 90% of returns', '']\n"
     ]
    }
   ],
   "source": [
    "'''A helpful string method when working with strings is the .split method. \n",
    "This function or method returns a data container called a list that contains the words from the input string. \n",
    "We will be introducing you to the concept of lists in the next video.'''\n",
    "\n",
    "'''The split method has two additional arguments (sep and maxsplit). \n",
    "The sep argument stands for \"separator\". \n",
    "It can be used to identify how the string should be split up \n",
    "(e.g., whitespace characters like space, tab, return, newline; specific punctuation \n",
    "(e.g., comma, dashes)). \n",
    "If the sep argument is not provided, the default separator is whitespace.\n",
    "'''\n",
    "\n",
    "'''True to its name, the maxsplit argument provides the maximum number of splits. \n",
    "The argument gives maxsplit + 1 number of elements in the new list, \n",
    "with the remaining string being returned as the last element in the list.'''\n",
    "key_message = \"Asset Allocation epxlains more than 90% of returns.\"\n",
    "print(str.split(key_message))\n",
    "print(str.split(key_message, ' ', 3))\n",
    "print(str.split(key_message, '.'))"
   ]
  },
  {
   "cell_type": "markdown",
   "metadata": {},
   "source": [
    "### Lists\n",
    "Lists are the first form of a container of data that we get to know.\n",
    "Key thing about a list is \n",
    "- it is mutable\n",
    "- it is ordered\n",
    "\n",
    "We use square brackets to define our lists. <br>\n",
    "Also, we use an index to call elememnts of a list. The first index is 0. We call this zero-based indexing.\n",
    "\n",
    "We can index how far an element is from the beginning of the list. With -1, -2 and so on we can index from the back.\n",
    "\n"
   ]
  },
  {
   "cell_type": "code",
   "execution_count": 43,
   "metadata": {},
   "outputs": [
    {
     "name": "stdout",
     "output_type": "stream",
     "text": [
      "business plan\n"
     ]
    }
   ],
   "source": [
    "my_list = ['business plan', 'newsletter', 1, True, 'Ende']\n",
    "print(my_list[0])"
   ]
  },
  {
   "cell_type": "code",
   "execution_count": 44,
   "metadata": {},
   "outputs": [
    {
     "name": "stdout",
     "output_type": "stream",
     "text": [
      "['business plan', 'newsletter']\n"
     ]
    }
   ],
   "source": [
    "# We can also slice parts of a list. The lower bound is inclusive, the upper bound is exclusive.\n",
    "print(my_list[0:3])\n",
    "# You can omit the first or last element of a list when formulating slicing, as a shortcut. \n",
    "# List is a type, just as int, float, string."
   ]
  },
  {
   "cell_type": "code",
   "execution_count": 48,
   "metadata": {},
   "outputs": [
    {
     "name": "stdout",
     "output_type": "stream",
     "text": [
      "True\n",
      "False\n"
     ]
    }
   ],
   "source": [
    "# List is a type, just as int, float, string.\n",
    "# So you can use membership indicators: in & not in\n",
    "\n",
    "print(5 in [5, '6'])\n",
    "print(6 in [5, '6'])"
   ]
  },
  {
   "cell_type": "markdown",
   "metadata": {},
   "source": [
    "The main difference between lists and strings is mutability.\n",
    "Mutability means you can change elements. In lists that is possible. \n",
    "Both lists and strings are ordered, i.e. the order counts. That's why indexing works well. "
   ]
  },
  {
   "cell_type": "code",
   "execution_count": 15,
   "metadata": {},
   "outputs": [
    {
     "ename": "SyntaxError",
     "evalue": "invalid syntax (<ipython-input-15-212756091976>, line 12)",
     "output_type": "error",
     "traceback": [
      "\u001b[1;36m  File \u001b[1;32m\"<ipython-input-15-212756091976>\"\u001b[1;36m, line \u001b[1;32m12\u001b[0m\n\u001b[1;33m    print(sorted(alpha_list, reverse=True)\u001b[0m\n\u001b[1;37m                                          ^\u001b[0m\n\u001b[1;31mSyntaxError\u001b[0m\u001b[1;31m:\u001b[0m invalid syntax\n"
     ]
    }
   ],
   "source": [
    "# The following are useful functions when working with lists\n",
    "# For alphabetical value, 'greater' or 'max' means later in the alphabet\n",
    "# For strings the standard comparison is alphabetical\n",
    "# if you want to change the sorting order and get data from largest to smallest use the optional argument reverse=True\n",
    "\n",
    "\n",
    "alpha_list = [1,10,3,5]\n",
    "print(len(alpha_list))  #returns how many elements are in a list.\n",
    "print(max(alpha_list) )# returns the greatest element of the list. How the greatest element is determined depends on what type objects are in the list. The maximum element in a list of numbers is the largest number. The maximum elements in a list of strings is element that would occur last if the list were sorted alphabetically. This works because the the max function is defined in terms of the greater than comparison operator. The max function is undefined for lists that contain elements from different, incomparable types.\n",
    "print(min(alpha_list)) # returns the smallest element in a list. min is the opposite of max, which returns the largest element in a list.\n",
    "print(sorted(alpha_list)) #returns a copy of a list in order from smallest to largest, leaving the list unchanged.\n",
    "print(sorted(alpha_list, reverse=True)"
   ]
  },
  {
   "cell_type": "code",
   "execution_count": 19,
   "metadata": {},
   "outputs": [
    {
     "name": "stdout",
     "output_type": "stream",
     "text": [
      "4\n",
      "10\n",
      "1\n",
      "[1, 3, 5, 10]\n",
      "[10, 5, 3, 1]\n"
     ]
    }
   ],
   "source": [
    "# The following are useful functions when working with lists\n",
    "\n",
    "alpha_list = [1,10,3,5]\n",
    "print(len(alpha_list))  #returns how many elements are in a list.\n",
    "print(max(alpha_list) )# returns the greatest element of the list. How the greatest element is determined depends on what type objects are in the list. The maximum element in a list of numbers is the largest number. The maximum elements in a list of strings is element that would occur last if the list were sorted alphabetically. This works because the the max function is defined in terms of the greater than comparison operator. The max function is undefined for lists that contain elements from different, incomparable types.\n",
    "print(min(alpha_list)) # returns the smallest element in a list. min is the opposite of max, which returns the largest element in a list.\n",
    "print(sorted(alpha_list)) #returns a copy of a list in order from smallest to largest, leaving the list unchanged.\n",
    "print(sorted(alpha_list, reverse=True))\n",
    "# if you want to change the sorting order and get data from largest to smallest use the optional argument reverse=True\n",
    "\n",
    "# For alphabetical value, 'greater' or 'max' means later in the alphabet\n",
    "# For strings the standard comparison is alphabetical\n",
    "\n"
   ]
  },
  {
   "cell_type": "code",
   "execution_count": 23,
   "metadata": {},
   "outputs": [
    {
     "name": "stdout",
     "output_type": "stream",
     "text": [
      "fore\n",
      "aft\n",
      "starboard\n",
      "port\n",
      "García-O'Kelly\n"
     ]
    }
   ],
   "source": [
    "# the join method is also useful to work with lists\n",
    "new_str = \"\\n\".join([\"fore\", \"aft\", \"starboard\", \"port\"])\n",
    "print(new_str)\n",
    "\n",
    "name = \"-\".join([\"García\", \"O'Kelly\"])\n",
    "print(name)\n",
    "\n",
    "#It is important to remember to separate each of the items in the list you are joining with a comma (,)\n",
    "# join only works with data type strings"
   ]
  },
  {
   "cell_type": "code",
   "execution_count": 24,
   "metadata": {},
   "outputs": [
    {
     "name": "stdout",
     "output_type": "stream",
     "text": [
      "['a', 'b', 'c', 'd', 'z']\n"
     ]
    }
   ],
   "source": [
    "# the append method adds an element as an additional argument to a list\n",
    "letters = ['a', 'b', 'c', 'd']\n",
    "letters.append('z')\n",
    "print(letters)"
   ]
  },
  {
   "attachments": {
    "image.png": {
     "image/png": "[encoded data removed]"
    }
   },
   "cell_type": "markdown",
   "metadata": {},
   "source": [
    "### Tuples\n",
    "\n",
    "Tuples are useful data containers. \n",
    "It's a data type for \n",
    "- immutable \n",
    "- ordered \n",
    "\n",
    "sequences of elements. \n",
    "Very useful if you want to store related pieces of information.\n",
    "\n",
    "![image.png](attachment:image.png)\n",
    "Source: Udacity Nanodegree Data Analyst\n",
    "\n",
    "Best practice is to use the when the data really belongs closely together. "
   ]
  },
  {
   "cell_type": "code",
   "execution_count": 27,
   "metadata": {},
   "outputs": [
    {
     "name": "stdout",
     "output_type": "stream",
     "text": [
      "('Latitude:', 13.4125)\n",
      "('Longitude:', 103.866667)\n",
      "('Latitude:', 13.4125)\n",
      "('Longitude:', 103.866667)\n",
      "The dimensions are 52 x 40 x 100\n"
     ]
    }
   ],
   "source": [
    "location = (13.4125, 103.866667)\n",
    "print(\"Latitude:\", location[0])\n",
    "print(\"Longitude:\", location[1])\n",
    "\n",
    "# you can omit the parentheses when assigning arguments (e.g. values or variables) to tuples\n",
    "location = 13.4125, 103.866667\n",
    "print(\"Latitude:\", location[0])\n",
    "print(\"Longitude:\", location[1])\n",
    "\n"
   ]
  },
  {
   "cell_type": "code",
   "execution_count": 29,
   "metadata": {},
   "outputs": [
    {
     "name": "stdout",
     "output_type": "stream",
     "text": [
      "52\n",
      "40\n",
      "100\n"
     ]
    }
   ],
   "source": [
    "# Tuple unpacking assigns variables from the content of the tuple dimensions. \n",
    "# You can use tuple unpacking to assign the information from a tuple into multiple variables \n",
    "# without having to access them one by one and make multiple assignment statements.\n",
    "\n",
    "dimensions = 52, 40, 100\n",
    "length, width, height = dimensions\n",
    "print(length)\n",
    "print(width)\n",
    "print(height)"
   ]
  },
  {
   "cell_type": "code",
   "execution_count": 30,
   "metadata": {},
   "outputs": [
    {
     "name": "stdout",
     "output_type": "stream",
     "text": [
      "The dimensions are 52 x 40 x 100\n"
     ]
    }
   ],
   "source": [
    "# use the .format method to build your tuple elements into nice output\n",
    "length, width, height = 52, 40, 100\n",
    "print(\"The dimensions are {} x {} x {}\".format(length, width, height))\n"
   ]
  },
  {
   "cell_type": "markdown",
   "metadata": {},
   "source": [
    "### Sets\n",
    "\n",
    "Sets are containers of unique elements, withoug any particular order.\n",
    "I.e. duplicates are removed.\n",
    "So we can create a set from a list by removing dupolicates.\n",
    "The set() function does exactly that."
   ]
  },
  {
   "cell_type": "code",
   "execution_count": 5,
   "metadata": {},
   "outputs": [
    {
     "name": "stdout",
     "output_type": "stream",
     "text": [
      "set(['Fixed Income', 'Cash', 'Equity'])\n",
      "3\n",
      "True\n",
      "set(['Fixed Income', 'Alternatives', 'Cash', 'Equity'])\n"
     ]
    }
   ],
   "source": [
    "list_asset_class = ('Equity', 'Fixed Income', 'Cash', 'Equity')\n",
    "set_asset_class = set(list_asset_class)\n",
    "print(set_asset_class)\n",
    "\n",
    "# you can also integrate other functions to find out more about your set.\n",
    "# For example, you might want to find out how many asset classes are in the portfolio, using len()\n",
    "print(len(set_asset_class))\n",
    "\n",
    "# Or whether you hold any cash at the moment, using the 'in' operator\n",
    "print('Cash' in set_asset_class)\n",
    "\n",
    "# if you want to add elements to a set, use the add-method (rather than the append method you use for lists)\n",
    "set_asset_class.add('Alternatives')\n",
    "print(set_asset_class)\n",
    "\n",
    "# there is also a pop() method, like with lists, that removes a random element\n",
    "# it is also to do union or intersection with sets"
   ]
  },
  {
   "cell_type": "markdown",
   "metadata": {},
   "source": [
    "### Dictionaries\n",
    "\n",
    "Dictionaries are also data structures. \n",
    "They are more flexible than sets.\n",
    "The store pairs: keys and values.\n",
    "We can look up and store values from and into the dictionary with square brackets. \n",
    "Dictionaries are mutable."
   ]
  },
  {
   "cell_type": "code",
   "execution_count": 14,
   "metadata": {},
   "outputs": [
    {
     "name": "stdout",
     "output_type": "stream",
     "text": [
      "3\n",
      "{'KK': 6, 'Soros': 1, 'Buffet': 2, 'Kahn': 3, 'Green': 5, 'Kahneman': 4}\n",
      "2\n",
      "None\n",
      "This is not a star fund manager\n"
     ]
    }
   ],
   "source": [
    "# Here is a dictionary, that stores my favourite investors and academics and assigns them my popularity rank\n",
    "stars = {'Soros': 1, 'Buffet': 2, 'Kahn': 3, 'Kahneman': 4, 'Green': 5}\n",
    "print(stars['Kahn']) # print the rank of Kahn\n",
    "stars['KK'] = 6\n",
    "print(stars)\n",
    "print(stars.get('Buffet')) #use the get method to retrieve the rank of a manager\n",
    "print(stars.get('BP')) #gives None if the key is not in the dictionary.\n",
    "print(stars.get('BP', 'This is not a star fund manager')) # we have added a message in case of None"
   ]
  },
  {
   "cell_type": "markdown",
   "metadata": {},
   "source": [
    "### Identity operators vs. comparison operators\n",
    "\n",
    "Identity opertors are is and is not. Comparison operators are == and !=.\n",
    "\n",
    "### Nested dictionary\n",
    "\n",
    "If we want to store more than one value for each key, we can constract a nested dictionary.\n",
    "\n"
   ]
  },
  {
   "cell_type": "code",
   "execution_count": 18,
   "metadata": {},
   "outputs": [
    {
     "name": "stdout",
     "output_type": "stream",
     "text": [
      "Global Macro\n",
      "{'Soros': {'rank': 2, 'strategy': 'Global Macro'}, 'Green': {'rank': 3, 'strategy': 'GTAA'}, 'Buffet': {'rank': 1, 'strategy': 'Value Investing'}}\n"
     ]
    }
   ],
   "source": [
    "stars = {'Buffet': {'rank':1, 'strategy': 'Value Investing'},\n",
    "         'Soros': {'rank':2, 'strategy': 'Global Macro'}}\n",
    "print(stars['Soros']['strategy'])\n",
    "\n",
    "#adding new elements is also possible by defining them layer after layer\n",
    "Green = {'rank':3, 'strategy': 'GTAA'}\n",
    "stars['Green'] = Green\n",
    "print(stars)\n",
    "         "
   ]
  },
  {
   "attachments": {
    "image.png": {
     "image/png": "[encoded data removed]"
    }
   },
   "cell_type": "markdown",
   "metadata": {},
   "source": [
    "### Summary\n",
    "\n",
    "Assembling key conepts on data types and structures using material from Udacity's Data Analyst Nanodegree\n",
    "\n",
    "A hint: use these platforms to get more coding practice... HackerRank and Codewars. Create a profile and work on mastering Python! \n",
    "\n",
    "Key concepts...\n",
    "\n",
    "#### Data Structures\n",
    "There are a number of built in python data structures that you will use all the time when programming. You can find a table of them available below:\n",
    "\n",
    "![image.png](attachment:image.png)\n",
    "\n",
    "#### Mathematical Operators\n",
    "\n",
    "![image.png](attachment:image.png)\n",
    "\n",
    "#### Comparison and Logical Operators\n",
    "\n",
    "![image.png](attachment:image.png)\n",
    "\n",
    "#### Booleans, Comparison Operators, and Logical Operators\n",
    "The bool data type holds one of the values True or False, which are often encoded as 1 or 0, respectively.\n",
    "There are 6 comparison operators that are common to see in order to obtain a bool value:\n",
    "\n",
    "#### Comparison Operators\n",
    "![image.png](attachment:image.png)\n",
    "\n",
    "And there are three logical operators you need to be familiar with:\n",
    "![image.png](attachment:image.png)\n",
    "\n",
    "\n",
    "At this point, you have learned a lot of skills to build on. The next lessons move pretty quickly to help you understand a number of coding practices that you will see in a job, as well as help you get prepared for the project."
   ]
  },
  {
   "cell_type": "markdown",
   "metadata": {},
   "source": [
    "## Control Flow\n",
    "So far, we have built code that runs line by line. Now we want to bild code that e.g. only runs when certain conditions are met, or runs again and again based on conditions etc... <nb>\n",
    "\n",
    "### If statement\n",
    "An if statement is a conditional statement that runs or skips code based on whether a condition is true or false.\n",
    "An if statement starts with the if keyword, followed by the condition to be checked, in this case phone_balance < 5, and then a colon. The condition is specified in a boolean expression that evaluates to either True or False.\n",
    "\n",
    "After this line is an indented block of code to be executed if that condition is true. Here, the lines that increment phone_balance and decrement bank_balance only execute if it is true that phone_balance is less than 5. If not, the code in this if block is simply skipped.\n",
    "\n",
    "You have learned about Python's comparison operators (e.g. == and !=) and how they are different from assignment operators (e.g. =). In conditional statements, you want to use comparison. For example, you'd want to use if x == 5 rather than if x = 5. If your conditional statement is causing a syntax error or doing something unexpected, check whether you have written == or =!\n",
    "\n",
    "With elif you add another condition to check. elif stands for else if. With else you introduce the code that should run otherwise, i.e. if the conditional statements are false. \n",
    "\n",
    "After those keywords, if, elif, else and the : to close these conditional statements... always indent the code. "
   ]
  },
  {
   "cell_type": "code",
   "execution_count": 28,
   "metadata": {},
   "outputs": [
    {
     "name": "stdout",
     "output_type": "stream",
     "text": [
      "You have achieved a performance of -3 this year.\n",
      "I have expected a better result.\n"
     ]
    }
   ],
   "source": [
    "performance = -3\n",
    "message = 'You have achieved a performance of {} this year.'.format(performance)\n",
    "print(message)\n",
    "\n",
    "if performance > 5:\n",
    "    print('Congrats! Very strong performance.')\n",
    "elif performance> 0:\n",
    "    print('Thats a good result.')\n",
    "else:\n",
    "    print('I have expected a better result.')\n",
    "\n",
    "# I am using 4 space for indentation here in line with the Python Style Guide. \n",
    "# Python 3 disallows mixing tabs and spaces for indentation. \n",
    "# All programmers working on code should use the same convention."
   ]
  },
  {
   "cell_type": "markdown",
   "metadata": {},
   "source": [
    "More complicated Boolean expressioins than the simple conditional statements above can be useful as well. For example you can use conditions that combine logic and algebra. Also we can combine statements with and, or, not. However complex this final construct gets, the entire line in an if statement must combine to a Boolean expression, that evaluates to either true or false. \n",
    "\n",
    "Also there are good and bad examples of if statements. \n",
    "- Conditions that are always true, don't make sense as the indented code block will always run. \n",
    "- Be careful when using logical operatiors: \n",
    " \n",
    " "
   ]
  },
  {
   "cell_type": "code",
   "execution_count": 32,
   "metadata": {},
   "outputs": [
    {
     "name": "stdout",
     "output_type": "stream",
     "text": [
      "Wear boots!\n",
      "Wear boots!\n"
     ]
    }
   ],
   "source": [
    "weather = 'snow'\n",
    "if weather == \"snow\" or \"rain\":\n",
    "    print(\"Wear boots!\")\n",
    "    \n",
    "#here, rain is not a boolean expression, it is a string. So use instead: \n",
    "if weather == \"snow\" or weather == \"rain\":\n",
    "    print(\"Wear boots!\")"
   ]
  },
  {
   "cell_type": "markdown",
   "metadata": {},
   "source": [
    "Now we have boolean expressions on both sides of the logical operator. \n",
    " \n",
    " - also, we can be brief: no use to write\n",
    " \n",
    " "
   ]
  },
  {
   "cell_type": "code",
   "execution_count": 33,
   "metadata": {},
   "outputs": [
    {
     "name": "stdout",
     "output_type": "stream",
     "text": [
      "go long\n",
      "go long\n"
     ]
    }
   ],
   "source": [
    "positive_alpha = True\n",
    "if positive_alpha == True:\n",
    "     print('go long')\n",
    "     \n",
    "# we can write more briefly, since the variable itself is a Boolean expression:\n",
    " \n",
    "if positive_alpha:\n",
    "     print('go long')\n",
    "     "
   ]
  },
  {
   "cell_type": "markdown",
   "metadata": {},
   "source": [
    "And if you want to check whether it is false, use the not operator. \n",
    " \n",
    "Sometimes, we use a non-boolean object as a condition. Then Python still checks whether the condition is true or false and by default assumes it is true, with the following exceptions: \n",
    " \n",
    "- constants defined to be false: None and False\n",
    "- zero of any numeric type: 0, 0.0, 0j, Decimal(0), Fraction(0, 1)\n",
    "- empty sequences and collections: '\"\", (), [], {}, set(), range(0)"
   ]
  },
  {
   "cell_type": "code",
   "execution_count": 38,
   "metadata": {},
   "outputs": [
    {
     "name": "stdout",
     "output_type": "stream",
     "text": [
      "There are 4 data points in your data base.\n"
     ]
    }
   ],
   "source": [
    "missing_data = 4\n",
    "if missing_data:\n",
    "    print('There are ' + str(missing_data) + ' data points in your data base.')\n",
    "else:\n",
    "    print('You work on consistent data.')"
   ]
  },
  {
   "cell_type": "markdown",
   "metadata": {},
   "source": [
    "### Loops\n",
    "\n",
    "Now we move on to loops. Python has two kinds of loops:\n",
    "- For loops\n",
    "- While loops\n",
    "\n",
    "#### for loops\n",
    "A for loop is used to \"iterate\", or do something repeatedly, over an iterable.\n",
    "\n",
    "An iterable is an object that can return one of its elements at a time. This can include sequence types, such as strings, lists, and tuples, as well as non-sequence types, such as dictionaries and files.\n",
    "\n",
    "Remember to write for with a small f. "
   ]
  },
  {
   "cell_type": "code",
   "execution_count": 44,
   "metadata": {},
   "outputs": [
    {
     "name": "stdout",
     "output_type": "stream",
     "text": [
      "Equities\n",
      "Cash\n",
      "These are all asset classes you hold.\n"
     ]
    }
   ],
   "source": [
    "# Using a for loop onto the list portfolio\n",
    "asset_classes = ['Equities', 'Cash']\n",
    "\n",
    "for asset_class in asset_classes:\n",
    "    print(asset_class)\n",
    "print('These are all asset classes you hold.')\n",
    "    "
   ]
  },
  {
   "cell_type": "markdown",
   "metadata": {},
   "source": [
    "- for is the keyword, signalling this is a for loop\n",
    "- Following that is asset_class in asset_classes, indicating asset_class is the iteration variable, and asset_classes is the iterable being looped over. \n",
    "- In the first iteration of the loop, asset_class takes the first iteration in asset_classes.\n",
    "- like in if statements, end the for loop heading with a colon :\n",
    "- Following the for loop heading is an indented block of code, the body of the loop, to be executed in each iteration of this loop. \n",
    "- After the body of the loop has executed, we don't move on to the next line yet; we go back to the for heading line, where the iteration variable takes the value of the next element of the iterable. \n",
    "- This process repeats until the loop has iterated through all the elements of the iterable. \n",
    "- Then, we move on to the line that follows the body of the loop \n",
    "\n",
    "You can name iteration variables however you like. A common pattern is to give the iteration variable and iterable the same names, except the singular and plural versions respectively (e.g., 'city' and 'cities').\n",
    "\n",
    "Using the range() Function with for Loops\n",
    "range() is a built-in function used to create an iterable sequence of numbers. You will frequently use range() with a for loop to repeat an action a certain number of times, as in this example:"
   ]
  },
  {
   "cell_type": "code",
   "execution_count": 46,
   "metadata": {},
   "outputs": [
    {
     "name": "stdout",
     "output_type": "stream",
     "text": [
      "test\n",
      "test\n",
      "test\n",
      "done\n"
     ]
    }
   ],
   "source": [
    "for i in range(3):\n",
    "    print('test')\n",
    "print('done')"
   ]
  },
  {
   "cell_type": "markdown",
   "metadata": {},
   "source": [
    "range(start=0, stop, step=1)\n",
    "The range() function takes three integer arguments, the first and third of which are optional:\n",
    "\n",
    "The 'start' argument is the first number of the sequence. If unspecified, 'start' defaults to 0.\n",
    "The 'stop' argument is 1 more than the last number of the sequence. This argument must be specified.\n",
    "The 'step' argument is the difference between each number in the sequence. If unspecified, 'step' defaults to 1.\n",
    "Notes on using range():\n",
    "\n",
    "If you specify one integer inside the parentheses withrange(), it's used as the value for 'stop,' and the defaults are used for the other two.\n",
    "e.g. - range(4) returns 0, 1, 2, 3\n",
    "\n",
    "If you specify two integers inside the parentheses withrange(), they're used for 'start' and 'stop,' and the default is used for 'step.'\n",
    "e.g. - range(2, 6) returns 2, 3, 4, 5\n",
    "\n",
    "Or you can specify all three integers for 'start', 'stop', and 'step.'\n",
    "e.g. - range(1, 10, 2) returns 1, 3, 5, 7, 9"
   ]
  },
  {
   "cell_type": "code",
   "execution_count": 5,
   "metadata": {},
   "outputs": [
    {
     "name": "stdout",
     "output_type": "stream",
     "text": [
      "['Equities', 'Cash']\n"
     ]
    }
   ],
   "source": [
    "# We can use the for loop to create new lists. For that we start with a new list and use the append method to add new items.\n",
    "asset_classes = ['equities', 'cash']\n",
    "new_asset_classes = []\n",
    "\n",
    "for asset_class in asset_classes:\n",
    "    new_asset_classes.append(asset_class.title())\n",
    "print(new_asset_classes)"
   ]
  },
  {
   "cell_type": "code",
   "execution_count": 56,
   "metadata": {},
   "outputs": [
    {
     "name": "stdout",
     "output_type": "stream",
     "text": [
      "['Equities', 'Cash']\n"
     ]
    }
   ],
   "source": [
    "# And we can also modify lists, using the range built in function.\n",
    "asset_classes = ['equities', 'cash']\n",
    "for index in range(len(asset_classes)):\n",
    "    asset_classes[index] = asset_classes[index].title()\n",
    "print(asset_classes)"
   ]
  },
  {
   "cell_type": "code",
   "execution_count": 62,
   "metadata": {},
   "outputs": [
    {
     "name": "stdout",
     "output_type": "stream",
     "text": [
      "Gustav Gründgens\n",
      "Julian W. König\n",
      "This is the full list of actors.\n",
      "Actor: Gustav Gründgens,     Role: Faust\n",
      "Actor: Julian W. König,     Role: King Lear\n"
     ]
    }
   ],
   "source": [
    "# You can also iterate through a dictionary with for loops\n",
    "# The normal way will only give access to the key...\n",
    "theatre = {\n",
    "    'Julian W. König': 'King Lear',\n",
    "    'Gustav Gründgens': 'Faust' \n",
    "}\n",
    "\n",
    "for actor in theatre:\n",
    "    print(actor)\n",
    "print('This is the full list of actors.')\n",
    "\n",
    "#If you wish to iterate through both keys and values, you can use the built-in method items like this\n",
    "# items is an awesome method that returns tuples of key, value pairs, \n",
    "# which you can use to iterate over dictionaries in for loops.\n",
    "\n",
    "for key, value in theatre.items():\n",
    "    print('Actor: {},     Role: {}'.format(key, value))    "
   ]
  },
  {
   "cell_type": "markdown",
   "metadata": {},
   "source": [
    "#### Building a dictionary \n",
    "using a full example from Udacity Data Analyst Nanodegree here:\n",
    "\n",
    "Method 1: Using a for loop to create a set of counters\n",
    "Let's start with a list containing the words in a series of book titles:\n",
    "\n",
    "book_title =  ['great', 'expectations','the', 'adventures', 'of', 'sherlock','holmes','the','great','gasby','hamlet','adventures','of','huckleberry','fin']\n",
    "Step 1: Create an empty dictionary.\n",
    "\n",
    "word_counter = {}\n",
    "Step 2. Iterate through each element in the list. If an element is already included in the dictionary, add 1 to its value. If not, add the element to the dictionary and set its value to 2.\n",
    "\n",
    "for word in book_title:\n",
    "    if word not in word_counter:\n",
    "        word_counter[word] = 1\n",
    "    else:\n",
    "        word_counter[word] += 1\n",
    "What's happening here?\n",
    "The for loop iterates through each element in the list. For the first iteration, word takes the value 'great'.\n",
    "Next, the if statement checks if word is in the word_counter dictionary.\n",
    "Since it doesn't yet, the statement word_counter[word] = 1 adds great as a key to the dictionary with a value of 1.\n",
    "Then, it leaves the if else statement and moves on to the next iteration of the for loop. word now takes the value expectations and repeats the process.\n",
    "When the if condition is not met, it is because thatword already exists in the word_counter dictionary, and the statement word_counter[word] = word_counter[word] + 1 increases the count of that word by 1.\n",
    "Once the for loop finishes iterating through the list, the for loop is complete.\n",
    "We can see the output by printing out the dictionary. Printing word_counter results in the following output.\n",
    "\n",
    "{'great': 2, 'expectations': 1, 'the': 2, 'adventures': 2, 'of': 2, 'sherlock': 1, 'holmes': 1, 'gasby': 1, 'hamlet': 1, 'huckleberry': 1, 'fin': 1}\n",
    "Feel free to try this out yourself in the code editor at the bottom of this page.\n",
    "\n",
    "Method 2: Using the get method\n",
    "We will use the same list for this example:\n",
    "\n",
    "book_title =  ['great', 'expectations','the', 'adventures', 'of', 'sherlock','holmes','the','great','gasby','hamlet','adventures','of','huckleberry','fin']\n",
    "Step 1: Create an empty dictionary.\n",
    "word_counter = {}\n",
    "Step 2. Iterate through each element, get() its value in the dictionary, and add 1.\n",
    "Recall that the dictionary get method is another way to retrieve the value of a key in a dictionary. Except unlike indexing, this will return a default value if the key is not found. If unspecified, this default value is set to None. We can use get with a default value of 0 to simplify the code from the first method above.\n",
    "\n",
    "for word in book_title:\n",
    "    word_counter[word] = word_counter.get(word, 0) + 1\n",
    "What's happening here?\n",
    "The for loop iterates through the list as we saw earlier. The for loop feeds 'great' to the next statement in the body of the for loop.\n",
    "In this line: word_counter[word] = word_counter.get(word,0) + 1, since the key 'great' doesn't yet exist in the dictionary, get() will return the value 0 and word_counter[word] will be set to 1.\n",
    "Once it encounters a word that already exists in word_counter (e.g. the second appearance of 'the'), the value for that key is incremented by 1. On the second appearance of 'the', the key's value would add 1 again, resulting in 2.\n",
    "Once the for loop finishes iterating through the list, the for loop is complete.\n",
    "Printing word_counter shows us we got the same result as we did in method 1.\n",
    "\n",
    "{'great': 2, 'expectations': 1, 'the': 2, 'adventures': 2, 'of': 2, 'sherlock': 1, 'holmes': 1, 'gasby': 1, 'hamlet': 1, 'huckleberry': 1, 'fin': 1}\n",
    "Again, feel free to try this out yourself in the code editor below."
   ]
  },
  {
   "cell_type": "markdown",
   "metadata": {},
   "source": [
    "#### while loops\n",
    "For loops are a definite iteration. The loop runs a pre-defined number of times. \n",
    "\n",
    "while loops are indefinite iterations. They repeat an unknown number of times. It ends when some condition is met."
   ]
  },
  {
   "cell_type": "code",
   "execution_count": 71,
   "metadata": {},
   "outputs": [
    {
     "name": "stdout",
     "output_type": "stream",
     "text": [
      "[3, 4]\n"
     ]
    }
   ],
   "source": [
    "# working whith a while loop using sum\n",
    "# A Portfolio manager wants to add new issues to a portfolio until the new issue quota is at least 5%.\n",
    "# the list holds the allocations he is getting\n",
    "\n",
    "allocations = [1,1,2,1,4,3]\n",
    "new_issue = []\n",
    "\n",
    "while sum(new_issue) < 5:\n",
    "    new_issue.append(allocations.pop())\n",
    "print(new_issue)\n",
    "\n",
    "\n"
   ]
  },
  {
   "cell_type": "markdown",
   "metadata": {},
   "source": [
    "Components of the while loop...\n",
    "\n",
    "- The first line starts with the while keyword, indicating this is a while loop.\n",
    "- Following that is a condition to be checked. \n",
    "- The while loop heading always ends with a colon :.\n",
    "- Indented after this heading is the body of the while loop. If the condition for the while loop is true, the code lines in the loop's body will be executed.\n",
    "- We then go back to the while heading line, and the condition is evaluated again. This process of checking the condition and then executing the loop repeats until the condition becomes false.\n",
    "- When the condition becomes false, we move on to the line following the body of the loop, which will be unindented.\n",
    "- The indented body of the loop should modify at least one variable in the test condition. If the value of the test condition never changes, the result is an infinite loop!"
   ]
  },
  {
   "cell_type": "markdown",
   "metadata": {},
   "source": [
    "#### Break and continue\n",
    "\n",
    "In case we need more precise control over when a loop should end, we use the break or continue keywords.\n",
    "One strategy to see what's happening in the code and we sense or know there is a logical error somewhere (i.e. the code runs, but the result is not correct) is to enter print statements to see what's happening step by step. This process is called debugging. \n",
    "Here's what our keywords do...\n",
    "- break terminates a loop\n",
    "- continue skips one iteration of a loop\n"
   ]
  },
  {
   "cell_type": "markdown",
   "metadata": {},
   "source": [
    "#### zip\n",
    "\n",
    "with zip() you can zip lists together. With zip(* ) you can unzip lists.\n",
    "\n",
    "zip returns an iterator that combines multiple iterables into one sequence of tuples. Each tuple contains the elements in that position from all the iterables. For example, printing. you need to use a command that assigns the zipped element to a list with list() or a dictionary with dict() or tuple with tupple().  \n",
    "\n",
    "See a typical application of zip in a for loop later in the Scripting section\n",
    "\n"
   ]
  },
  {
   "cell_type": "code",
   "execution_count": 84,
   "metadata": {},
   "outputs": [
    {
     "name": "stdout",
     "output_type": "stream",
     "text": [
      "<type 'list'>\n"
     ]
    }
   ],
   "source": [
    "list(zip(['a', 'b', 'c'], [1, 2, 3]))\n",
    "list(zip(list_1, List_2)) #to generate a list\n",
    "tuple(zip(list_1, list_2)) #to generate a tuple\n",
    "dict(zip(list_1, list_2)) # to generate a dictionary\n",
    "alpha = dict(zip(list_1, list_2)) #also assign it to a name\n",
    "print(list)\n",
    "print(dict)\n",
    "print(alpha)"
   ]
  },
  {
   "cell_type": "code",
   "execution_count": 79,
   "metadata": {},
   "outputs": [
    {
     "name": "stdout",
     "output_type": "stream",
     "text": [
      "('MK', 'HF')\n",
      "(3, 2)\n"
     ]
    }
   ],
   "source": [
    "# Like we did for range() we need to convert it to a list or iterate through it with a loop to see the elements.\n",
    "# You could unpack each tuple in a for loop like this.\n",
    "pm_alpha = [('MK', 3), ('HF', 2)]\n",
    "pm, alpha = zip(*pm_alpha)\n",
    "print(pm)\n",
    "print(alpha)"
   ]
  },
  {
   "cell_type": "markdown",
   "metadata": {},
   "source": [
    "#### enumerate\n",
    "\n",
    "enumerate is a built in function that returns an iterator of tuples containing indices and values of a list. You'll often use this when you want the index along with each element of an iterable in a loop. Enumerate can make using loops much easier. \n",
    "i becomes the enumerator and I need to assign a name to the elements in the list that I enumerate, letter in this example. "
   ]
  },
  {
   "cell_type": "code",
   "execution_count": 83,
   "metadata": {},
   "outputs": [
    {
     "ename": "TypeError",
     "evalue": "'list' object is not callable",
     "output_type": "error",
     "traceback": [
      "\u001b[1;31m---------------------------------------------------------------------------\u001b[0m",
      "\u001b[1;31mTypeError\u001b[0m                                 Traceback (most recent call last)",
      "\u001b[1;32m<ipython-input-83-780d6d90de53>\u001b[0m in \u001b[0;36m<module>\u001b[1;34m()\u001b[0m\n\u001b[0;32m      1\u001b[0m \u001b[0mletters\u001b[0m \u001b[1;33m=\u001b[0m \u001b[1;33m[\u001b[0m\u001b[1;34m'a'\u001b[0m\u001b[1;33m,\u001b[0m \u001b[1;34m'b'\u001b[0m\u001b[1;33m,\u001b[0m \u001b[1;34m'c'\u001b[0m\u001b[1;33m,\u001b[0m \u001b[1;34m'd'\u001b[0m\u001b[1;33m,\u001b[0m \u001b[1;34m'e'\u001b[0m\u001b[1;33m]\u001b[0m\u001b[1;33m\u001b[0m\u001b[0m\n\u001b[1;32m----> 2\u001b[1;33m \u001b[1;32mfor\u001b[0m \u001b[0mi\u001b[0m\u001b[1;33m,\u001b[0m \u001b[0mletter\u001b[0m \u001b[1;32min\u001b[0m \u001b[0menumerate\u001b[0m\u001b[1;33m(\u001b[0m\u001b[0mletters\u001b[0m\u001b[1;33m)\u001b[0m\u001b[1;33m:\u001b[0m\u001b[1;33m\u001b[0m\u001b[0m\n\u001b[0m\u001b[0;32m      3\u001b[0m     \u001b[1;32mprint\u001b[0m\u001b[1;33m(\u001b[0m\u001b[0mi\u001b[0m\u001b[1;33m,\u001b[0m \u001b[0mletter\u001b[0m\u001b[1;33m)\u001b[0m\u001b[1;33m\u001b[0m\u001b[0m\n",
      "\u001b[1;31mTypeError\u001b[0m: 'list' object is not callable"
     ]
    }
   ],
   "source": [
    "letters = ['a', 'b', 'c', 'd', 'e']\n",
    "for i, letter in enumerate(letters):\n",
    "    print(i, letter)"
   ]
  },
  {
   "cell_type": "markdown",
   "metadata": {},
   "source": [
    "#### List comprehensions\n",
    "\n",
    "A great tool to create lists. \n",
    "\n",
    "List comprehensions allow us to create a list using a for loop in one step.\n",
    "\n",
    "You create a list comprehension with brackets [], including an expression to evaluate for each element in an iterable. \n"
   ]
  },
  {
   "cell_type": "code",
   "execution_count": 17,
   "metadata": {},
   "outputs": [
    {
     "name": "stdout",
     "output_type": "stream",
     "text": [
      "['Klaus', 'Claus']\n",
      "['Klaus', 'Claus']\n"
     ]
    }
   ],
   "source": [
    "# instead of writing\n",
    "\n",
    "capitalized_pms = []\n",
    "pms = ['klaus', 'claus']\n",
    "\n",
    "for pm in pms:\n",
    "    capitalized_pms.append(pm.title())\n",
    "\n",
    "print(capitalized_pms)\n",
    "\n",
    "# we can write more briefly\n",
    "\n",
    "capitalized_pms = [pm.title() for pm in pms]\n",
    "print(capitalized_pms)\n",
    "\n",
    "# we can also make the list creation conditional using an if statement\n",
    "squares = [x**2 for x in range(9) if x % 2 == 0]\n",
    "\n",
    "# If you would like to add else, you have to move the conditionals to \n",
    "# the beginning of the listcomp, right after the expression, like this.\n",
    "squares = [x**2 if x % 2 == 0 else x + 3 for x in range(9)]"
   ]
  },
  {
   "cell_type": "markdown",
   "metadata": {},
   "source": [
    "## Functions\n",
    "This now goes beyond Python's built-in functions. We will now write function of our own. \n",
    "\n",
    "Functions are useful blocks of code, that allow you to encapsulate a task.\n",
    "\n",
    "Encapsulation is to carry out a whole series of steps with one simple command. \n",
    "This is where algorithmic thinking comes in.\n",
    "All steps of a process are encapsulated into one command.\n",
    "\n",
    "Like this you can optimize and organize code.\n",
    "\n",
    "A function definition includes several important parts.\n",
    "\n",
    "First, we look at the function header. Defining a function always start with the def() keyword. The header always ends with a colon. Following def is the name of the function. Then after the parentheses, we include the arguments that the function expects, separated by commas. If we don't need arguments for a function, we just leave the parentheses empty. \n",
    "\n",
    "The body of the function is indented. Within the body we can refer to the argument variables and define new variables. When we define a variable in the body of the function, we can only use it in the body of this function. This is called a local variable. \n",
    "\n",
    "We use the return keyword to give back an output value when the function is called. \n",
    "\n",
    "Dont't confuse print and return. Print only provides output to the console, but it's value is none or empty.\n",
    "Return produces output that you can store and work with later as well. \n",
    "\n",
    "You can use default arguments and assign them default values in the header. If later in the function the default argument is not specified to another value, it will take that value. This can be helpful to make you code more concise.\n"
   ]
  },
  {
   "cell_type": "code",
   "execution_count": 2,
   "metadata": {},
   "outputs": [
    {
     "name": "stdout",
     "output_type": "stream",
     "text": [
      "785.3975\n",
      "785.3975\n",
      "1539.3791\n"
     ]
    }
   ],
   "source": [
    "def cylinder_volume(height, radius = 5):\n",
    "    pi = 3.14159\n",
    "    return height * pi * radius**2\n",
    "\n",
    "print(cylinder_volume(10,5)) # here we are passing the arguments by position\n",
    "print(cylinder_volume(10))\n",
    "print(cylinder_volume(radius = 7, height = 10)) #we can also pass the arguments by name, as we do here"
   ]
  },
  {
   "cell_type": "markdown",
   "metadata": {},
   "source": [
    "#### Variable scope\n",
    "Variable scope refers to which parts of a program a variable can be referenced, or used, from.\n",
    "\n",
    "If a variable is created inside a function, it can only be used within that function. Accessing it outside that function is not possible. If we create it inside a function it is called a local variable.\n",
    "\n",
    "Global variables are variables that are created outside of the function. We can access the value of a global variable but we can not modify it. If we want to modify it, we should pass it into the function as an argument. \n",
    "\n",
    "It is best to define variables in the smallest scope they will be needed in. While functions can refer to variables defined in a larger scope, this is very rarely a good idea since you may not know what variables you have defined if your program has a lot of variables.\n",
    "\n",
    "#### Documentation\n",
    "The good thing is a function makes blocks of code reusable. They give human readable names to complex processes.\n",
    "Also documentation strings or doc strings make a function even more readable.\n",
    "Surround them by triple quotes.\n",
    "First line is a quick description of what the function is doing.\n",
    "Then you may add a more thorough description.\n",
    "Then list the arguments and describe them.\n",
    "Then describe the result of the function.\n",
    "\n"
   ]
  },
  {
   "cell_type": "code",
   "execution_count": 1,
   "metadata": {},
   "outputs": [],
   "source": [
    "def readable_timedelta(days):\n",
    "    # insert your docstring here\n",
    "    \"\"\" Break down a given number of days into weeks and days.\n",
    "\n",
    "    This function can be used to take any number of days and then translate that into an output\n",
    "    that gives you a number of weeks and days.\n",
    "\n",
    "    INPUT:\n",
    "    days: this is the number of days you want to translate into weeks and days\n",
    "\n",
    "    OUTPUT: The function will return the number of weeks and days based on your input. \"\"\"\n",
    "    weeks = days // 7\n",
    "    remainder = days % 7\n",
    "    return \"{} week(s) and {} day(s)\".format(weeks, remainder)"
   ]
  },
  {
   "cell_type": "markdown",
   "metadata": {},
   "source": [
    "#### Lambda functions\n",
    "Anonymous functions, i.e. functions that don't have a name. They are helpful for creating quick functions that aren’t needed later in your code. The lambda keyword is used to indicate this is an anonymous function.\n",
    "\n",
    "Components of a Lambda Function\n",
    "The lambda keyword is used to indicate that this is a lambda expression.\n",
    "Following lambda are one or more arguments for the anonymous function separated by commas, followed by a colon :. Similar to functions, the way the arguments are named in a lambda expression is arbitrary.\n",
    "Last is an expression that is evaluated and returned in this function. This is a lot like an expression you might see as a return statement in a function."
   ]
  },
  {
   "cell_type": "code",
   "execution_count": 7,
   "metadata": {},
   "outputs": [
    {
     "name": "stdout",
     "output_type": "stream",
     "text": [
      "6\n",
      "6\n",
      "6\n"
     ]
    }
   ],
   "source": [
    "def double(x):\n",
    "    return x*2\n",
    "print(double(3))\n",
    "\n",
    "# the same thing as a lambda function looks like that\n",
    "double = lambda x: x*2\n",
    "print(double(3))\n",
    "\n",
    "# you can use variable names as you like, so you could also write it like that\n",
    "double = lambda alpha: alpha*2\n",
    "print(double(3))"
   ]
  },
  {
   "cell_type": "markdown",
   "metadata": {},
   "source": [
    "#### map() and filter() \n",
    "map() is a higher-order built-in function that takes a function and iterable as inputs, \n",
    "and returns an iterator that applies the function to each element of the iterable.\n",
    "\n",
    "filter() is a higher-order built-in function that takes a function and iterable as inputs and returns an iterator with the elements from the iterable for which the function returns True. "
   ]
  },
  {
   "cell_type": "code",
   "execution_count": 11,
   "metadata": {},
   "outputs": [
    {
     "name": "stdout",
     "output_type": "stream",
     "text": [
      "\n",
      "Welcome to Python3!\n",
      "\n",
      "             ____\n",
      "            / . .\\\n",
      "            \\  ---<\n",
      "             \\  /\n",
      "   __________/ /\n",
      "-=:___________/\n",
      "\n",
      "<3, Juno\n",
      "\n",
      "Welcome to Python3!\n",
      "\n",
      "             ____\n",
      "            / . .\\\n",
      "            \\  ---<\n",
      "             \\  /\n",
      "   __________/ /\n",
      "-=:___________/\n",
      "\n",
      "<3, Juno\n",
      "\n",
      "Welcome to Python3!\n",
      "\n",
      "             ____\n",
      "            / . .\\\n",
      "            \\  ---<\n",
      "             \\  /\n",
      "   __________/ /\n",
      "-=:___________/\n",
      "\n",
      "<3, Juno\n",
      "\n"
     ]
    }
   ],
   "source": [
    "how_many_snakes = 3\n",
    "snake_string = \"\"\"\n",
    "Welcome to Python3!\n",
    "\n",
    "             ____\n",
    "            / . .\\\\\n",
    "            \\  ---<\n",
    "             \\  /\n",
    "   __________/ /\n",
    "-=:___________/\n",
    "\n",
    "<3, Juno\n",
    "\"\"\"\n",
    "\n",
    "\n",
    "print(snake_string * how_many_snakes)"
   ]
  },
  {
   "cell_type": "markdown",
   "metadata": {},
   "source": [
    "## Scripting\n",
    "This section will be about good style, setting up coding in helpful environments etc. \n",
    "\n",
    "### Getting in external data via the input() function\n",
    "\n",
    "We can prompt the user to enter input using the input() function and then work with that input.\n"
   ]
  },
  {
   "cell_type": "code",
   "execution_count": null,
   "metadata": {},
   "outputs": [],
   "source": [
    "name = input('Enter your name: ') #if not specified differently, input is taken as a string\n",
    "print('Hello', name.title())\n",
    "\n",
    "         \n"
   ]
  },
  {
   "cell_type": "code",
   "execution_count": 4,
   "metadata": {},
   "outputs": [
    {
     "name": "stdout",
     "output_type": "stream",
     "text": [
      "Enter your number: 7\n",
      "Your adjusted number:  27\n"
     ]
    }
   ],
   "source": [
    "# so if you want to have numeric input to do calculations with it, you have to specify the data type\n",
    "num = int(input('Enter your number: '))\n",
    "num += 20 \n",
    "print('Your adjusted number: ', num)"
   ]
  },
  {
   "cell_type": "code",
   "execution_count": 5,
   "metadata": {},
   "outputs": [
    {
     "name": "stdout",
     "output_type": "stream",
     "text": [
      "Enter your number: 4.5\n",
      "Your adjusted number:  24.5\n"
     ]
    }
   ],
   "source": [
    "# also works wrapped as floating rate numbers\n",
    "num = float(input('Enter your number: '))\n",
    "num += 20 \n",
    "print('Your adjusted number: ', num)"
   ]
  },
  {
   "cell_type": "code",
   "execution_count": 8,
   "metadata": {},
   "outputs": [
    {
     "name": "stdout",
     "output_type": "stream",
     "text": [
      "Enter your number: 5.5\n",
      "my statementmy statementmy statementmy statementmy statement\n"
     ]
    }
   ],
   "source": [
    "# sometimes we want to make one data type another,e.g. to multiply a string with it, needing an integer\n",
    "num = int(float(input('Enter your number: ')))\n",
    "print('my statement' * num)"
   ]
  },
  {
   "cell_type": "code",
   "execution_count": 9,
   "metadata": {},
   "outputs": [
    {
     "name": "stdout",
     "output_type": "stream",
     "text": [
      "Enter an expression: 2*5\n",
      "10\n"
     ]
    }
   ],
   "source": [
    "# eval is a built in function that evaluations input as a line of python\n",
    "result = eval(input(\"Enter an expression: \")) #for example 2*5\n",
    "print(result)\n"
   ]
  },
  {
   "cell_type": "code",
   "execution_count": 22,
   "metadata": {},
   "outputs": [
    {
     "name": "stdout",
     "output_type": "stream",
     "text": [
      "Names:Philipp, Lena\n",
      "Number of assignments: 6,8\n",
      "Current grade: 70,64\n",
      "Hi Philipp,\n",
      "\n",
      "This is a reminder that you have 4 assignments left to submit before you can graduate. You're current grade is 70 and can increase to 78 if you submit all assignments before the due date.\n",
      "\n",
      "\n",
      "Hi  Lena,\n",
      "\n",
      "This is a reminder that you have 2 assignments left to submit before you can graduate. You're current grade is 64 and can increase to 68 if you submit all assignments before the due date.\n",
      "\n",
      "\n"
     ]
    }
   ],
   "source": [
    "names =  input('Names:' ).split(',')\n",
    "assignments = input('Number of assignments: ').split(',')\n",
    "grades =  input('Current grade: ').split(',')\n",
    "\n",
    "message = \"Hi {},\\n\\nThis is a reminder that you have {} assignments left to \\\n",
    "submit before you can graduate. You're current grade is {} and can increase \\\n",
    "to {} if you submit all assignments before the due date.\\n\\n\"\n",
    "\n",
    "for name, assignment, grade in zip(names, assignments, grades):\n",
    "    print(message.format(name, 10 - int(assignment), int(grade), int(grade) + (10-int(assignment))*2)\n",
    ")"
   ]
  },
  {
   "attachments": {
    "image.png": {
     "image/png": "[encoded data removed]"
    }
   },
   "cell_type": "markdown",
   "metadata": {},
   "source": [
    "### Dealing with errors and exceptions\n",
    "\n",
    "There are two types errors in Python: syntax errors and exceptions.\n",
    "\n",
    "Syntax errors occur when Python can’t interpret our code, since we didn’t follow the correct syntax for Python. These are errors you’re likely to get when you make a typo, or you’re first starting to learn Python.\n",
    "\n",
    "Exceptions occur when unexpected things happen during execution of a program, even if the code is syntactically correct. There are different types of built-in exceptions in Python, and you can see which exception is thrown in the error message.\n",
    "- a Value error exception is given when a function is given an argument with a currect type, but inapropriate value. \n",
    "- a Name error exception is given if we use a variable that we didnt define yet\n",
    "\n",
    "From Udacity's Nanodegree on Data Analysis:\n",
    "![image.png](attachment:image.png)\n",
    "\n",
    "\n",
    "We can use the try() function to deal with exceptions.\n",
    "Python will first run the code in the try block and then jump to the except block if it detects an exception. \n",
    "\n",
    "We can use try statements to handle exceptions. There are four clauses you can use (one more in addition to those shown in the video).\n",
    "\n",
    "try: This is the only mandatory clause in a try statement. The code in this block is the first thing that Python runs in a try statement.\n",
    "\n",
    "except: If Python runs into an exception while running the try block, it will jump to the except block that handles that exception.\n",
    "\n",
    "else: If Python runs into no exceptions while running the try block, it will run the code in this block after running the try block.\n",
    "\n",
    "finally: Before Python leaves this try statement, it will run the code in this finally block under any conditions, even if it's ending the program. E.g., if Python ran into an error while running code in the except or else block, this finally block will still be executed before stopping the program."
   ]
  },
  {
   "cell_type": "code",
   "execution_count": 27,
   "metadata": {},
   "outputs": [
    {
     "name": "stdout",
     "output_type": "stream",
     "text": [
      "your number: five\n",
      "That's not a valid number. Please enter an integer\n"
     ]
    }
   ],
   "source": [
    "try: \n",
    "    x = int(input('your number: '))\n",
    "    print(x)\n",
    "except: print('That\\'s not a valid number. Please enter an integer')\n",
    "    "
   ]
  },
  {
   "cell_type": "code",
   "execution_count": 28,
   "metadata": {},
   "outputs": [
    {
     "name": "stdout",
     "output_type": "stream",
     "text": [
      "your number: 5\n",
      "5\n",
      "Action finished\n"
     ]
    }
   ],
   "source": [
    "# the code is always running, if there is an exception or not. See the finished statements\n",
    "try: \n",
    "    x = int(input('your number: '))\n",
    "    print(x)\n",
    "except: print('That\\'s not a valid number. Please enter an integer')\n",
    "    \n",
    "print('Action finished')"
   ]
  },
  {
   "cell_type": "code",
   "execution_count": 32,
   "metadata": {},
   "outputs": [
    {
     "name": "stdout",
     "output_type": "stream",
     "text": [
      "your number: 5\n",
      "5\n"
     ]
    }
   ],
   "source": [
    "# If we want the code to run until the user gave a correct input, we can use a while loop and a break statement\n",
    "while True:\n",
    "    try: \n",
    "        x = int(input('your number: '))\n",
    "        print(x)\n",
    "        break\n",
    "    except: print('That\\'s not a valid number. Please enter an integer')\n",
    "    \n",
    "    print('Action finished') #will not get printed"
   ]
  },
  {
   "cell_type": "code",
   "execution_count": 33,
   "metadata": {},
   "outputs": [
    {
     "name": "stdout",
     "output_type": "stream",
     "text": [
      "your number: 5\n",
      "5\n",
      "Action finished\n"
     ]
    }
   ],
   "source": [
    "# now we use the finally statement to print our finished statement\n",
    "while True:\n",
    "    try: \n",
    "        x = int(input('your number: '))\n",
    "        print(x)\n",
    "        break\n",
    "    except: print('That\\'s not a valid number. Please enter an integer')\n",
    "    \n",
    "    finally: print('Action finished') "
   ]
  },
  {
   "cell_type": "code",
   "execution_count": null,
   "metadata": {},
   "outputs": [],
   "source": [
    "# We can also specify which error we want to handle, e.g. a Value error in this case\n",
    "while True:\n",
    "    try: \n",
    "        x = int(input('your number: '))\n",
    "        print(x)\n",
    "        break\n",
    "    except ValueError: print('That\\'s not a valid number. Please enter an integer')\n",
    "    \n",
    "    finally: print('Action finished') "
   ]
  },
  {
   "cell_type": "markdown",
   "metadata": {},
   "source": [
    "### Interacting with real world data\n",
    "\n",
    "This massively increases what we can achieve with our programming. To do that we need to know how to read and write files in Python.\n",
    "\n",
    "To read from a file, we first need to open it. We use the built-in function open() to do that.\n"
   ]
  },
  {
   "cell_type": "code",
   "execution_count": 1,
   "metadata": {},
   "outputs": [
    {
     "ename": "FileNotFoundError",
     "evalue": "[Errno 2] No such file or directory: 'my_path/my_file.txt'",
     "output_type": "error",
     "traceback": [
      "\u001b[1;31m---------------------------------------------------------------------------\u001b[0m",
      "\u001b[1;31mFileNotFoundError\u001b[0m                         Traceback (most recent call last)",
      "\u001b[1;32m<ipython-input-1-073ad679e016>\u001b[0m in \u001b[0;36m<module>\u001b[1;34m()\u001b[0m\n\u001b[1;32m----> 1\u001b[1;33m \u001b[0mf\u001b[0m \u001b[1;33m=\u001b[0m \u001b[0mopen\u001b[0m\u001b[1;33m(\u001b[0m\u001b[1;34m'my_path/my_file.txt'\u001b[0m\u001b[1;33m,\u001b[0m \u001b[1;34m'r'\u001b[0m\u001b[1;33m)\u001b[0m\u001b[1;33m\u001b[0m\u001b[0m\n\u001b[0m\u001b[0;32m      2\u001b[0m \u001b[0mfile_data\u001b[0m \u001b[1;33m=\u001b[0m \u001b[0mf\u001b[0m\u001b[1;33m.\u001b[0m\u001b[0mread\u001b[0m\u001b[1;33m(\u001b[0m\u001b[1;33m)\u001b[0m\u001b[1;33m\u001b[0m\u001b[0m\n\u001b[0;32m      3\u001b[0m \u001b[0mf\u001b[0m\u001b[1;33m.\u001b[0m\u001b[0mclose\u001b[0m\u001b[1;33m(\u001b[0m\u001b[1;33m)\u001b[0m\u001b[1;33m\u001b[0m\u001b[0m\n",
      "\u001b[1;31mFileNotFoundError\u001b[0m: [Errno 2] No such file or directory: 'my_path/my_file.txt'"
     ]
    }
   ],
   "source": [
    "f = open('my_path/my_file.txt', 'r')\n",
    "file_data = f.read()\n",
    "f.close()"
   ]
  },
  {
   "cell_type": "markdown",
   "metadata": {},
   "source": [
    "1. First open the file using the built-in function, open. This requires a string that shows the path to the file. The open function returns a file object, which is a Python object through which Python interacts with the file itself. Here, we assign this object to the variable f.\n",
    "2. There are optional parameters you can specify in the open function. One is the mode in which we open the file. Here, we use r or read only. This is actually the default value for the mode argument.\n",
    "3. Use the read method to access the contents from the file object. This read method takes the text contained in a file and puts it into a string. Here, we assign the string returned from this method into the variable file_data.\n",
    "4. When finished with the file, use the close method to free up any system resources taken up by the file."
   ]
  },
  {
   "cell_type": "code",
   "execution_count": null,
   "metadata": {},
   "outputs": [],
   "source": [
    "f = open('my_path/my_file.txt', 'w')\n",
    "f.write(\"Hello there!\")\n",
    "f.close()\n",
    "\n"
   ]
  },
  {
   "cell_type": "markdown",
   "metadata": {},
   "source": [
    "Open the file in writing ('w') mode. If the file does not exist, Python will create it for you. If you open an existing file in writing mode, any content that it had contained previously will be deleted. If you're interested in adding to an existing file, without deleting its content, you should use the append ('a') mode instead of write.\n",
    "Use the write method to add text to the file.\n",
    "Close the file when finished."
   ]
  },
  {
   "cell_type": "markdown",
   "metadata": {},
   "source": [
    "With\n",
    "\n",
    "\n",
    "Python provides a special syntax that auto-closes a file for you once you're finished using it.\n",
    "\n",
    "This with keyword allows you to open a file, do operations on it, and automatically close it after the indented code is executed, in this case, reading from the file. \n",
    "Now, we don’t have to call f.close()! You can only access the file object, f, within this indented block."
   ]
  },
  {
   "cell_type": "code",
   "execution_count": null,
   "metadata": {},
   "outputs": [],
   "source": [
    "with open('my_path/my_file.txt', 'r') as f:\n",
    "    file_data = f.read()"
   ]
  },
  {
   "cell_type": "markdown",
   "metadata": {},
   "source": [
    "### Importing Local sripts\n",
    "\n",
    "Write your import statements first. Each one in a separate line. That is good style.\n",
    "\n",
    "\n",
    "We can actually import Python code from other scripts, which is helpful if you are working on a bigger project where \n",
    "you want to organize your code into multiple files and reuse code in those files. If the Python script you want \n",
    "to import is in the same directory as your current script, \n",
    "you just type import followed by the name of the file, without the .py extension.\n",
    "\n",
    "import useful_functions\n",
    "\n",
    "We can also access objects in another file by referencing them directly after a dot, with the name of the functions or an alias, here uf.\n",
    "\n",
    "import useful_functions as uf\n",
    "uf.add_five([1, 2, 3, 4])\n",
    "\n",
    "Using a main block\n",
    "To avoid running executable statements in a script when it's imported as a module in another script, include these lines in an if __name__ == \"__main__\" block. \n",
    "\n"
   ]
  },
  {
   "cell_type": "code",
   "execution_count": 1,
   "metadata": {},
   "outputs": [
    {
     "ename": "ModuleNotFoundError",
     "evalue": "No module named 'other_file'",
     "output_type": "error",
     "traceback": [
      "\u001b[1;31m---------------------------------------------------------------------------\u001b[0m",
      "\u001b[1;31mModuleNotFoundError\u001b[0m                       Traceback (most recent call last)",
      "\u001b[1;32m<ipython-input-1-5d65d56aba48>\u001b[0m in \u001b[0;36m<module>\u001b[1;34m()\u001b[0m\n\u001b[1;32m----> 1\u001b[1;33m \u001b[1;32mimport\u001b[0m \u001b[0mother_file\u001b[0m\u001b[1;33m\u001b[0m\u001b[0m\n\u001b[0m\u001b[0;32m      2\u001b[0m \u001b[1;36m2\u001b[0m\u001b[1;33m+\u001b[0m\u001b[1;36m3\u001b[0m\u001b[1;33m\u001b[0m\u001b[0m\n",
      "\u001b[1;31mModuleNotFoundError\u001b[0m: No module named 'other_file'"
     ]
    }
   ],
   "source": [
    "import other_file\n",
    "2+3\n"
   ]
  },
  {
   "cell_type": "markdown",
   "metadata": {},
   "source": [
    "The Python Standard Library is a collection of modules we can use in our programming.\n",
    "Importing, just as above, runs the module inside my programm.\n",
    "Typically, the modules we import include a lot of definitions, functions, objects and dont show any output. When you import a module, it's good practice to read the page about the module in the PSL. "
   ]
  },
  {
   "cell_type": "code",
   "execution_count": 2,
   "metadata": {},
   "outputs": [
    {
     "data": {
      "text/plain": [
       "24"
      ]
     },
     "execution_count": 2,
     "metadata": {},
     "output_type": "execute_result"
    }
   ],
   "source": [
    "import math\n",
    "math.factorial(4)\n"
   ]
  },
  {
   "cell_type": "markdown",
   "metadata": {},
   "source": [
    "- from module_name import object_name\n",
    "- from module_name import first_object, second_object (then you dont need dot notation to access elements from the module)\n",
    "- import module_name as new_name (use standard alias)\n",
    "- from module_name import object_name as new_name\n",
    "- from module_name import * (don't do this)\n",
    "- import module_name (if you really want to use all the objects)"
   ]
  },
  {
   "cell_type": "markdown",
   "metadata": {},
   "source": [
    "We can use pip or Anaconda, which is spezialized on data science to install packages.\n",
    "\n",
    "It is common practice to put imports from third party libraries after imports from the Standard Library.\n",
    "\n",
    "To install a package using pip, just enter \"pip install\" followed by the name of the package in your command line like this: pip install package_name. This downloads and installs the package so that it's available to import in your programs. Once installed, you can import third-party packages using the same syntax used to import from the standard library.\n",
    "\n",
    "Using a requirements.txt File\n",
    "Larger Python programs might depend on dozens of third party packages. To make it easier to share these programs, programmers often list a project's dependencies in a file called requirements.txt. This is an example of a requirements.txt file.\n",
    "\n",
    "beautifulsoup4==4.5.1\n",
    "bs4==0.0.1\n",
    "pytz==2016.7\n",
    "requests==2.11.1\n",
    "Each line of the file includes the name of a package and its version number. The version number is optional, but it usually should be included. Libraries can change subtly, or dramatically, between versions, so it's important to use the same library versions that the program's author used when they wrote the program.\n",
    "\n",
    "You can use pip to install all of a project's dependencies at once by typing pip install -r requirements.txt in your command line.\n",
    "\n",
    "While there are many online resources about programming, not all of the them are created equal. This list of resources is in approximate order of reliability.\n",
    "\n",
    "1. The Python Tutorial - less technical language than the main documentation. Read the Python 3 version!\n",
    "2. The Python Language and Library References - more technical than the tutorial, use these resources more and more.\n",
    "3. Third-Party Library Documentation - Third-party libraries publish their documentation on their own websites, and often times at https://readthedocs.org/. \n",
    "4. The websites and blogs of prominent experts - The previous resources are primary sources, meaning that they are documentation from the same people who wrote the code being documented. Primary sources are the most reliable. Secondary sources are also extremely valuable. The difficulty with secondary sources is determining the credibility of the source. The websites of authors like Doug Hellmann and developers like Eli Bendersky are excellent. \n",
    "5. StackOverflow - good alternative\n",
    "6. Bug Trackers - another alternative\n",
    "7. Random Web Forums - last ressort\n"
   ]
  },
  {
   "cell_type": "markdown",
   "metadata": {},
   "source": [
    "Closing the notes on Python here. We'll move on to specific modules like numpy, pandas, scipy, matplotlib from now on. These are really a world of their own and warrant their own Notebooks. "
   ]
  }
 ],
 "metadata": {
  "kernelspec": {
   "display_name": "Python 3",
   "language": "python",
   "name": "python3"
  },
  "language_info": {
   "codemirror_mode": {
    "name": "ipython",
    "version": 3
   },
   "file_extension": ".py",
   "mimetype": "text/x-python",
   "name": "python",
   "nbconvert_exporter": "python",
   "pygments_lexer": "ipython3",
   "version": "3.6.5"
  }
 },
 "nbformat": 4,
 "nbformat_minor": 2
}
